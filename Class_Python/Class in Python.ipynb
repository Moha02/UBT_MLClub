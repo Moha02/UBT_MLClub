{
 "cells": [
  {
   "cell_type": "markdown",
   "id": "18d2bde7",
   "metadata": {},
   "source": [
    "# Class in Python"
   ]
  },
  {
   "cell_type": "markdown",
   "id": "fcb66362",
   "metadata": {},
   "source": [
    "By Mohammed Almelabi"
   ]
  },
  {
   "cell_type": "code",
   "execution_count": 1,
   "id": "ec91852a",
   "metadata": {},
   "outputs": [
    {
     "name": "stdout",
     "output_type": "stream",
     "text": [
      "It is a car\n"
     ]
    }
   ],
   "source": [
    "class car:\n",
    "    print(\"It is a car\")"
   ]
  },
  {
   "cell_type": "code",
   "execution_count": 2,
   "id": "12a8c2a1",
   "metadata": {},
   "outputs": [],
   "source": [
    "BMW = car()"
   ]
  },
  {
   "cell_type": "code",
   "execution_count": 3,
   "id": "d740d9b8",
   "metadata": {},
   "outputs": [],
   "source": [
    "class car:\n",
    "    brand = \"BMW\"\n",
    "    color = \"Red\""
   ]
  },
  {
   "cell_type": "code",
   "execution_count": 4,
   "id": "4ea3e7c2",
   "metadata": {},
   "outputs": [],
   "source": [
    "BMW = car()"
   ]
  },
  {
   "cell_type": "code",
   "execution_count": 5,
   "id": "c91914e1",
   "metadata": {},
   "outputs": [
    {
     "data": {
      "text/plain": [
       "<__main__.car at 0x7fbe6cd66e20>"
      ]
     },
     "execution_count": 5,
     "metadata": {},
     "output_type": "execute_result"
    }
   ],
   "source": [
    "BMW"
   ]
  },
  {
   "cell_type": "code",
   "execution_count": 6,
   "id": "9c44cfb7",
   "metadata": {},
   "outputs": [
    {
     "name": "stdout",
     "output_type": "stream",
     "text": [
      "BMW\n",
      "Red\n"
     ]
    }
   ],
   "source": [
    "print(BMW.brand)\n",
    "print(BMW.color)"
   ]
  },
  {
   "cell_type": "code",
   "execution_count": 7,
   "id": "b3af409f",
   "metadata": {},
   "outputs": [],
   "source": [
    "class car:\n",
    "    brand = \"BMW\"\n",
    "    color = \"Red\"\n",
    "    \n",
    "    def action(self):\n",
    "        print(\"The car brand is {} and its color is {}\".format(self.brand, self.color))"
   ]
  },
  {
   "cell_type": "code",
   "execution_count": 8,
   "id": "809be4d3",
   "metadata": {},
   "outputs": [],
   "source": [
    "BMW = car()"
   ]
  },
  {
   "cell_type": "code",
   "execution_count": 9,
   "id": "997dd2a0",
   "metadata": {},
   "outputs": [
    {
     "name": "stdout",
     "output_type": "stream",
     "text": [
      "BMW\n",
      "Red\n",
      "The car brand is BMW and its color is Red\n"
     ]
    }
   ],
   "source": [
    "print(BMW.brand)\n",
    "print(BMW.color)\n",
    "BMW.action()"
   ]
  },
  {
   "cell_type": "markdown",
   "id": "3bd24924",
   "metadata": {},
   "source": [
    "# Initializing attributes of classes"
   ]
  },
  {
   "cell_type": "code",
   "execution_count": 10,
   "id": "81e830c3",
   "metadata": {},
   "outputs": [
    {
     "name": "stdout",
     "output_type": "stream",
     "text": [
      "BMW\n",
      "Red\n",
      "The car brand is BMW and its color is Red\n"
     ]
    }
   ],
   "source": [
    "class car:\n",
    "    brand = \"BMW\"\n",
    "    color = \"Red\"\n",
    "    \n",
    "    def action(self):\n",
    "        print(\"The car brand is {} and its color is {}\".format(self.brand, self.color))\n",
    "BMW = car()\n",
    "print(BMW.brand)\n",
    "print(BMW.color)\n",
    "BMW.action()"
   ]
  },
  {
   "cell_type": "code",
   "execution_count": 11,
   "id": "0df7e814",
   "metadata": {},
   "outputs": [
    {
     "name": "stdout",
     "output_type": "stream",
     "text": [
      "BMW\n"
     ]
    }
   ],
   "source": [
    "Audi= car()\n",
    "print(Audi.brand)"
   ]
  },
  {
   "cell_type": "code",
   "execution_count": 12,
   "id": "92cb0094",
   "metadata": {},
   "outputs": [],
   "source": [
    "class Car:\n",
    "    \n",
    "    def __init__(self, brand, color):\n",
    "        self.brand = brand\n",
    "        self.color = color\n",
    "    \n",
    "    def action(self):\n",
    "        print(\"The car brand is {} and its color is {}\".format(self.brand, self.color))\n"
   ]
  },
  {
   "cell_type": "code",
   "execution_count": 14,
   "id": "67eb649c",
   "metadata": {
    "scrolled": true
   },
   "outputs": [
    {
     "name": "stdout",
     "output_type": "stream",
     "text": [
      "Audi\n",
      "The car brand is Audi and its color is Red\n"
     ]
    }
   ],
   "source": [
    "Audi= Car(\"Audi\", \"Red\")\n",
    "print(Audi.brand)\n",
    "Audi.action()\n",
    "\n"
   ]
  },
  {
   "cell_type": "code",
   "execution_count": 15,
   "id": "6273da08",
   "metadata": {},
   "outputs": [],
   "source": [
    "class Car:\n",
    "    \n",
    "    def __init__(self, brand, color):\n",
    "        print(\"constactor called\")\n",
    "        self.brand = brand\n",
    "        self.color = color\n",
    "    \n",
    "    def action(self):\n",
    "        print(\"The car brand is {} and its color is {}\".format(self.brand, self.color))"
   ]
  },
  {
   "cell_type": "code",
   "execution_count": 16,
   "id": "f945ce51",
   "metadata": {},
   "outputs": [
    {
     "name": "stdout",
     "output_type": "stream",
     "text": [
      "constactor called\n"
     ]
    }
   ],
   "source": [
    "Audi= Car(\"Audi\", \"Red\")\n"
   ]
  },
  {
   "cell_type": "code",
   "execution_count": 17,
   "id": "da7a8548",
   "metadata": {},
   "outputs": [],
   "source": [
    "class Car:\n",
    "    \n",
    "    def __init__(self, brand = \"Audi\", color = \"Blue\"):\n",
    "        print(\"constactor called\")\n",
    "        self.brand = brand\n",
    "        self.color = color\n",
    "    \n",
    "    def action(self):\n",
    "        print(\"The car brand is {} and its color is {}\".format(self.brand, self.color))"
   ]
  },
  {
   "cell_type": "code",
   "execution_count": 18,
   "id": "64e3d92f",
   "metadata": {},
   "outputs": [
    {
     "name": "stdout",
     "output_type": "stream",
     "text": [
      "constactor called\n"
     ]
    }
   ],
   "source": [
    "Audi = Car()"
   ]
  },
  {
   "cell_type": "code",
   "execution_count": 19,
   "id": "ecb27513",
   "metadata": {},
   "outputs": [
    {
     "data": {
      "text/plain": [
       "'Audi'"
      ]
     },
     "execution_count": 19,
     "metadata": {},
     "output_type": "execute_result"
    }
   ],
   "source": [
    "Audi.brand"
   ]
  },
  {
   "cell_type": "code",
   "execution_count": 20,
   "id": "ab12364e",
   "metadata": {},
   "outputs": [
    {
     "data": {
      "text/plain": [
       "'Blue'"
      ]
     },
     "execution_count": 20,
     "metadata": {},
     "output_type": "execute_result"
    }
   ],
   "source": [
    "Audi.color"
   ]
  },
  {
   "cell_type": "markdown",
   "id": "7d6c7697",
   "metadata": {},
   "source": [
    "# Inheritance"
   ]
  },
  {
   "cell_type": "code",
   "execution_count": 21,
   "id": "808938a9",
   "metadata": {},
   "outputs": [],
   "source": [
    "class Vehical:\n",
    "    brand = \"BMW\"\n",
    "    \n",
    "    def its_brand(self):\n",
    "        print(\"It is a {}\".format(self.brand))\n",
    "        \n",
    "        \n",
    "class sedan(Vehical):\n",
    "    def __init__(self, color):\n",
    "        self.color = color\n",
    "    \n",
    "    def define(self):\n",
    "        print(\"The vehical brand is {}, and its color is {}\".format(self.brand ,self.color))"
   ]
  },
  {
   "cell_type": "code",
   "execution_count": 22,
   "id": "8ef6807f",
   "metadata": {},
   "outputs": [
    {
     "name": "stdout",
     "output_type": "stream",
     "text": [
      "The vehical brand is BMW, and its color is Red\n",
      "It is a BMW\n"
     ]
    }
   ],
   "source": [
    "car = sedan(\"Red\")\n",
    "car.define()\n",
    "car.its_brand()"
   ]
  },
  {
   "cell_type": "markdown",
   "id": "7d2ed9b9",
   "metadata": {},
   "source": [
    "# Multiple Inheritance"
   ]
  },
  {
   "cell_type": "code",
   "execution_count": 23,
   "id": "f7863de0",
   "metadata": {},
   "outputs": [
    {
     "name": "stdout",
     "output_type": "stream",
     "text": [
      "The vehical brand is BMW,2021, and its color is Red\n",
      "It is a BMW\n",
      "it is a 2021\n",
      "The vehical brand is BMW,2021, and its color is Green\n",
      "It is a BMW\n",
      "it is a 2021\n"
     ]
    }
   ],
   "source": [
    "class Vehical:\n",
    "    brand = \"BMW\"\n",
    "    \n",
    "    def its_brand(self):\n",
    "        print(\"It is a {}\".format(self.brand))\n",
    "        \n",
    "class model:\n",
    "    \n",
    "    model = 2021\n",
    "    \n",
    "    def its_model(self):\n",
    "        print(\"it is a {}\".format(self.model))\n",
    "\n",
    "class sedan(Vehical, model):\n",
    "    def __init__(self, color):\n",
    "        self.color = color\n",
    "    \n",
    "    def define(self):\n",
    "        print(\"The vehical brand is {},{}, and its color is {}\".format(self.brand, self.model ,self.color))\n",
    "        \n",
    "class truck(Vehical, model):\n",
    "    def __init__(self, color):\n",
    "        self.color = color\n",
    "    \n",
    "    def define(self):\n",
    "        print(\"The vehical brand is {},{}, and its color is {}\".format(self.brand, self.model ,self.color))\n",
    "    \n",
    "car = sedan(\"Red\")\n",
    "car.define()\n",
    "car.its_brand()\n",
    "car.its_model()\n",
    "bus = truck(\"Green\")\n",
    "bus.define()\n",
    "bus.its_brand()\n",
    "bus.its_model()"
   ]
  },
  {
   "cell_type": "code",
   "execution_count": 29,
   "id": "3978b05e",
   "metadata": {
    "scrolled": false
   },
   "outputs": [
    {
     "name": "stdout",
     "output_type": "stream",
     "text": [
      "The vehical brand is BMW, and its color is Red\n",
      "It is a BMW\n",
      "The vehical brand is BMW, 2002\n"
     ]
    }
   ],
   "source": [
    "class Vehical:\n",
    "    brand = \"BMW\"\n",
    "    \n",
    "    def its_brand(self):\n",
    "        print(\"It is a {}\".format(self.brand))\n",
    "        \n",
    "        \n",
    "class motorcycle(Vehical):\n",
    "    color = \"Red\"\n",
    "#     def __init__(self, color):\n",
    "#         self.color = color\n",
    "    \n",
    "    \n",
    "    def define(self):\n",
    "        print(\"The vehical brand is {}, and its color is {}\".format(self.brand, self.color))\n",
    "        \n",
    "        \n",
    "        \n",
    "class model(motorcycle):\n",
    "    def __init__(self, year):\n",
    "        self.year = year\n",
    "        \n",
    "    def statement(self):\n",
    "        print(\"The vehical brand is {}, {}\".format(self.brand, self.year ))\n",
    "        \n",
    "GT = model(2002)\n",
    "\n",
    "GT.define()\n",
    "GT.its_brand()\n",
    "GT.statement()"
   ]
  },
  {
   "cell_type": "code",
   "execution_count": null,
   "id": "41472e45",
   "metadata": {},
   "outputs": [],
   "source": [
    "\n",
    "\n",
    "class person:\n",
    "    def __init__(self,salary):\n",
    "        self.salary = salary\n",
    "        \n",
    "    def __add__(self, other):\n",
    "        return self.salary + other.salary\n",
    "\n",
    "        \n",
    "        \n",
    "p1 = person(1000)\n",
    "p2 = person(2000)\n",
    "\n",
    "print(p1 + p2)"
   ]
  },
  {
   "cell_type": "code",
   "execution_count": null,
   "id": "071880b1",
   "metadata": {},
   "outputs": [],
   "source": [
    "class Vehical:\n",
    "    brand = \"BMW\"\n",
    "    \n",
    "    def its_brand(self):\n",
    "        print(\"It is a {}\".format(self.brand))\n",
    "class sedan(Vehical):\n",
    "    def __init__(self, color):\n",
    "        self.color = color\n",
    "    \n",
    "    def define(self):\n",
    "        print(\"The vehical brand is {}, and its color is {}\".format(self.brand ,self.color))\n",
    "        \n",
    "    def its_brand(self):\n",
    "        print(\"It is a {}\".format(self.brand))\n",
    "        super().its_brand()\n",
    "        \n",
    "mini = sedan(\"Red\")\n",
    "mini.define()\n",
    "mini.its_brand()"
   ]
  },
  {
   "cell_type": "code",
   "execution_count": null,
   "id": "cc2c09b0",
   "metadata": {},
   "outputs": [],
   "source": []
  }
 ],
 "metadata": {
  "kernelspec": {
   "display_name": "Python 3",
   "language": "python",
   "name": "python3"
  },
  "language_info": {
   "codemirror_mode": {
    "name": "ipython",
    "version": 3
   },
   "file_extension": ".py",
   "mimetype": "text/x-python",
   "name": "python",
   "nbconvert_exporter": "python",
   "pygments_lexer": "ipython3",
   "version": "3.8.8"
  }
 },
 "nbformat": 4,
 "nbformat_minor": 5
}
